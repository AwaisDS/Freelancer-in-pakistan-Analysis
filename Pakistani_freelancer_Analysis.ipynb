{
 "cells": [
  {
   "cell_type": "markdown",
   "id": "b2903c5f-cffa-45b2-87f6-9769ff237f0e",
   "metadata": {},
   "source": [
    "# Pakistani Freelancers Analysis"
   ]
  },
  {
   "cell_type": "markdown",
   "id": "c17c8c09-73ae-44b7-a938-c25020109c8c",
   "metadata": {},
   "source": [
    "## Importing Essential Libraries"
   ]
  },
  {
   "cell_type": "code",
   "execution_count": 2,
   "id": "5bac75f0-d400-435d-a4c7-e7343b5a8765",
   "metadata": {},
   "outputs": [],
   "source": [
    "import pandas as pd\n",
    "import numpy as np\n",
    "import matplotlib.pyplot as plt\n",
    "import seaborn as sns"
   ]
  },
  {
   "cell_type": "markdown",
   "id": "6a899de0-27ec-4433-a7ee-802103883ed8",
   "metadata": {},
   "source": [
    "### loading Data set"
   ]
  },
  {
   "cell_type": "code",
   "execution_count": 5,
   "id": "3b39f029-bc24-432c-b3eb-10fad2bb6af9",
   "metadata": {},
   "outputs": [],
   "source": [
    "file_path='freelancers-in-pakistan.csv'\n",
    "df=pd.read_csv(file_path , index_col=0)"
   ]
  },
  {
   "cell_type": "code",
   "execution_count": 12,
   "id": "9c7d85e3-439a-42a0-a98b-e261e5b63eba",
   "metadata": {},
   "outputs": [
    {
     "data": {
      "text/html": [
       "<div>\n",
       "<style scoped>\n",
       "    .dataframe tbody tr th:only-of-type {\n",
       "        vertical-align: middle;\n",
       "    }\n",
       "\n",
       "    .dataframe tbody tr th {\n",
       "        vertical-align: top;\n",
       "    }\n",
       "\n",
       "    .dataframe thead th {\n",
       "        text-align: right;\n",
       "    }\n",
       "</style>\n",
       "<table border=\"1\" class=\"dataframe\">\n",
       "  <thead>\n",
       "    <tr style=\"text-align: right;\">\n",
       "      <th></th>\n",
       "      <th>name</th>\n",
       "      <th>profession</th>\n",
       "      <th>reviews</th>\n",
       "      <th>earning($)</th>\n",
       "      <th>hourly_rate</th>\n",
       "    </tr>\n",
       "  </thead>\n",
       "  <tbody>\n",
       "    <tr>\n",
       "      <th>0</th>\n",
       "      <td>aimanhaider1</td>\n",
       "      <td>Professional Illustrator &amp; WordPress Developer</td>\n",
       "      <td>210 reviews</td>\n",
       "      <td>7.4</td>\n",
       "      <td>$10 USD per hour</td>\n",
       "    </tr>\n",
       "    <tr>\n",
       "      <th>1</th>\n",
       "      <td>dreamdezine</td>\n",
       "      <td>Where imagination &amp; art meet.</td>\n",
       "      <td>2035 reviews</td>\n",
       "      <td>8.7</td>\n",
       "      <td>$25 USD per hour</td>\n",
       "    </tr>\n",
       "    <tr>\n",
       "      <th>2</th>\n",
       "      <td>usatechsoft</td>\n",
       "      <td>Wordpress|Woocommerce|Shopify|PHP7</td>\n",
       "      <td>481 reviews</td>\n",
       "      <td>8.9</td>\n",
       "      <td>$40 USD per hour</td>\n",
       "    </tr>\n",
       "    <tr>\n",
       "      <th>3</th>\n",
       "      <td>zohaab85</td>\n",
       "      <td>Ghost Writer | Research Analyst I Business Writer</td>\n",
       "      <td>775 reviews</td>\n",
       "      <td>8.7</td>\n",
       "      <td>$20 USD per hour</td>\n",
       "    </tr>\n",
       "    <tr>\n",
       "      <th>4</th>\n",
       "      <td>AneesaIBA</td>\n",
       "      <td>Content/Design Powerhouse–Where Ideas Come to ...</td>\n",
       "      <td>361 reviews</td>\n",
       "      <td>7.5</td>\n",
       "      <td>$20 USD per hour</td>\n",
       "    </tr>\n",
       "    <tr>\n",
       "      <th>...</th>\n",
       "      <td>...</td>\n",
       "      <td>...</td>\n",
       "      <td>...</td>\n",
       "      <td>...</td>\n",
       "      <td>...</td>\n",
       "    </tr>\n",
       "    <tr>\n",
       "      <th>1345</th>\n",
       "      <td>PolestarDesigns</td>\n",
       "      <td>NFT Artist | Illustrations | Graphic Design</td>\n",
       "      <td>892 reviews</td>\n",
       "      <td>8.4</td>\n",
       "      <td>$65 USD per hour</td>\n",
       "    </tr>\n",
       "    <tr>\n",
       "      <th>1346</th>\n",
       "      <td>FarazAbbas</td>\n",
       "      <td>PHP JavaScript Laravel Wordpress CSS Node Reac...</td>\n",
       "      <td>468 reviews</td>\n",
       "      <td>7.8</td>\n",
       "      <td>$20 USD per hour</td>\n",
       "    </tr>\n",
       "    <tr>\n",
       "      <th>1347</th>\n",
       "      <td>aftabyounas</td>\n",
       "      <td>Web &amp; Mobile App Developer</td>\n",
       "      <td>596 reviews</td>\n",
       "      <td>7.9</td>\n",
       "      <td>$20 USD per hour</td>\n",
       "    </tr>\n",
       "    <tr>\n",
       "      <th>1348</th>\n",
       "      <td>web99design</td>\n",
       "      <td>Top Rated PHP/WordPress/Shopify Dev &amp; UIX Desi...</td>\n",
       "      <td>269 reviews</td>\n",
       "      <td>8.1</td>\n",
       "      <td>$15 USD per hour</td>\n",
       "    </tr>\n",
       "    <tr>\n",
       "      <th>1349</th>\n",
       "      <td>godesignpk</td>\n",
       "      <td>Developers I Animators I Designers</td>\n",
       "      <td>205 reviews</td>\n",
       "      <td>7.2</td>\n",
       "      <td>$30 USD per hour</td>\n",
       "    </tr>\n",
       "  </tbody>\n",
       "</table>\n",
       "<p>1350 rows × 5 columns</p>\n",
       "</div>"
      ],
      "text/plain": [
       "                 name                                         profession  \\\n",
       "0        aimanhaider1     Professional Illustrator & WordPress Developer   \n",
       "1         dreamdezine                      Where imagination & art meet.   \n",
       "2         usatechsoft                 Wordpress|Woocommerce|Shopify|PHP7   \n",
       "3            zohaab85  Ghost Writer | Research Analyst I Business Writer   \n",
       "4           AneesaIBA  Content/Design Powerhouse–Where Ideas Come to ...   \n",
       "...               ...                                                ...   \n",
       "1345  PolestarDesigns        NFT Artist | Illustrations | Graphic Design   \n",
       "1346       FarazAbbas  PHP JavaScript Laravel Wordpress CSS Node Reac...   \n",
       "1347      aftabyounas                         Web & Mobile App Developer   \n",
       "1348      web99design  Top Rated PHP/WordPress/Shopify Dev & UIX Desi...   \n",
       "1349       godesignpk                 Developers I Animators I Designers   \n",
       "\n",
       "           reviews  earning($)       hourly_rate  \n",
       "0      210 reviews         7.4  $10 USD per hour  \n",
       "1     2035 reviews         8.7  $25 USD per hour  \n",
       "2      481 reviews         8.9  $40 USD per hour  \n",
       "3      775 reviews         8.7  $20 USD per hour  \n",
       "4      361 reviews         7.5  $20 USD per hour  \n",
       "...            ...         ...               ...  \n",
       "1345   892 reviews         8.4  $65 USD per hour  \n",
       "1346   468 reviews         7.8  $20 USD per hour  \n",
       "1347   596 reviews         7.9  $20 USD per hour  \n",
       "1348   269 reviews         8.1  $15 USD per hour  \n",
       "1349   205 reviews         7.2  $30 USD per hour  \n",
       "\n",
       "[1350 rows x 5 columns]"
      ]
     },
     "execution_count": 12,
     "metadata": {},
     "output_type": "execute_result"
    }
   ],
   "source": [
    "df"
   ]
  },
  {
   "cell_type": "markdown",
   "id": "286b8980-b6b7-457a-bc5c-e3c33fb77a8f",
   "metadata": {},
   "source": [
    "### Summary Statistics"
   ]
  },
  {
   "cell_type": "code",
   "execution_count": 8,
   "id": "08d57419-8f0d-4ec7-8720-db128d9a7e28",
   "metadata": {},
   "outputs": [
    {
     "data": {
      "text/plain": [
       "(1350, 5)"
      ]
     },
     "execution_count": 8,
     "metadata": {},
     "output_type": "execute_result"
    }
   ],
   "source": [
    "df.shape"
   ]
  },
  {
   "cell_type": "code",
   "execution_count": 9,
   "id": "ad8b7e04-3d93-4f09-aa1c-0721d8cdda7a",
   "metadata": {},
   "outputs": [
    {
     "data": {
      "text/html": [
       "<div>\n",
       "<style scoped>\n",
       "    .dataframe tbody tr th:only-of-type {\n",
       "        vertical-align: middle;\n",
       "    }\n",
       "\n",
       "    .dataframe tbody tr th {\n",
       "        vertical-align: top;\n",
       "    }\n",
       "\n",
       "    .dataframe thead th {\n",
       "        text-align: right;\n",
       "    }\n",
       "</style>\n",
       "<table border=\"1\" class=\"dataframe\">\n",
       "  <thead>\n",
       "    <tr style=\"text-align: right;\">\n",
       "      <th></th>\n",
       "      <th>earning($)</th>\n",
       "    </tr>\n",
       "  </thead>\n",
       "  <tbody>\n",
       "    <tr>\n",
       "      <th>count</th>\n",
       "      <td>1350.000000</td>\n",
       "    </tr>\n",
       "    <tr>\n",
       "      <th>mean</th>\n",
       "      <td>8.060000</td>\n",
       "    </tr>\n",
       "    <tr>\n",
       "      <th>std</th>\n",
       "      <td>0.568013</td>\n",
       "    </tr>\n",
       "    <tr>\n",
       "      <th>min</th>\n",
       "      <td>7.200000</td>\n",
       "    </tr>\n",
       "    <tr>\n",
       "      <th>25%</th>\n",
       "      <td>7.500000</td>\n",
       "    </tr>\n",
       "    <tr>\n",
       "      <th>50%</th>\n",
       "      <td>8.000000</td>\n",
       "    </tr>\n",
       "    <tr>\n",
       "      <th>75%</th>\n",
       "      <td>8.700000</td>\n",
       "    </tr>\n",
       "    <tr>\n",
       "      <th>max</th>\n",
       "      <td>8.900000</td>\n",
       "    </tr>\n",
       "  </tbody>\n",
       "</table>\n",
       "</div>"
      ],
      "text/plain": [
       "        earning($)\n",
       "count  1350.000000\n",
       "mean      8.060000\n",
       "std       0.568013\n",
       "min       7.200000\n",
       "25%       7.500000\n",
       "50%       8.000000\n",
       "75%       8.700000\n",
       "max       8.900000"
      ]
     },
     "execution_count": 9,
     "metadata": {},
     "output_type": "execute_result"
    }
   ],
   "source": [
    "df.describe()"
   ]
  },
  {
   "cell_type": "code",
   "execution_count": 14,
   "id": "fba3a09b-e25d-4d69-84df-37969f66c469",
   "metadata": {},
   "outputs": [
    {
     "data": {
      "text/plain": [
       "Index(['name', 'profession', 'reviews', 'earning($)', 'hourly_rate'], dtype='object')"
      ]
     },
     "execution_count": 14,
     "metadata": {},
     "output_type": "execute_result"
    }
   ],
   "source": [
    "df.columns"
   ]
  },
  {
   "cell_type": "code",
   "execution_count": 19,
   "id": "5fe37d44-e128-4e9f-9558-14ef7e70a20b",
   "metadata": {},
   "outputs": [
    {
     "data": {
      "text/plain": [
       "pandas.core.frame.DataFrame"
      ]
     },
     "execution_count": 19,
     "metadata": {},
     "output_type": "execute_result"
    }
   ],
   "source": [
    "type(df)"
   ]
  },
  {
   "cell_type": "code",
   "execution_count": null,
   "id": "4c5ac9e3-44ae-4999-9ed8-76eb4edf6c85",
   "metadata": {},
   "outputs": [],
   "source": []
  }
 ],
 "metadata": {
  "kernelspec": {
   "display_name": "Python 3 (ipykernel)",
   "language": "python",
   "name": "python3"
  },
  "language_info": {
   "codemirror_mode": {
    "name": "ipython",
    "version": 3
   },
   "file_extension": ".py",
   "mimetype": "text/x-python",
   "name": "python",
   "nbconvert_exporter": "python",
   "pygments_lexer": "ipython3",
   "version": "3.12.1"
  }
 },
 "nbformat": 4,
 "nbformat_minor": 5
}
