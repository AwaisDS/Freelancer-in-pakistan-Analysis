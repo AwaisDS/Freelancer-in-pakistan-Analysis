{
 "cells": [
  {
   "cell_type": "markdown",
   "id": "b2903c5f-cffa-45b2-87f6-9769ff237f0e",
   "metadata": {},
   "source": [
    "# Pakistan Job Analysis Dec 19 - Mar-21"
   ]
  },
  {
   "cell_type": "markdown",
   "id": "c17c8c09-73ae-44b7-a938-c25020109c8c",
   "metadata": {},
   "source": [
    "## Importing Essential Libraries"
   ]
  },
  {
   "cell_type": "code",
   "execution_count": 1,
   "id": "5bac75f0-d400-435d-a4c7-e7343b5a8765",
   "metadata": {},
   "outputs": [],
   "source": [
    "import pandas as pd\n",
    "import numpy as np\n",
    "import matplotlib.pyplot as plt\n",
    "import seaborn as sns"
   ]
  },
  {
   "cell_type": "markdown",
   "id": "6a899de0-27ec-4433-a7ee-802103883ed8",
   "metadata": {},
   "source": [
    "### loading Data set"
   ]
  },
  {
   "cell_type": "code",
   "execution_count": 48,
   "id": "3b39f029-bc24-432c-b3eb-10fad2bb6af9",
   "metadata": {},
   "outputs": [],
   "source": [
    "file_path='Pakistan Available Job Dec 19 - Mar-21.csv'\n",
    "df=pd.read_csv(file_path )"
   ]
  },
  {
   "cell_type": "code",
   "execution_count": 43,
   "id": "9c7d85e3-439a-42a0-a98b-e261e5b63eba",
   "metadata": {},
   "outputs": [
    {
     "data": {
      "text/html": [
       "<div>\n",
       "<style scoped>\n",
       "    .dataframe tbody tr th:only-of-type {\n",
       "        vertical-align: middle;\n",
       "    }\n",
       "\n",
       "    .dataframe tbody tr th {\n",
       "        vertical-align: top;\n",
       "    }\n",
       "\n",
       "    .dataframe thead th {\n",
       "        text-align: right;\n",
       "    }\n",
       "</style>\n",
       "<table border=\"1\" class=\"dataframe\">\n",
       "  <thead>\n",
       "    <tr style=\"text-align: right;\">\n",
       "      <th></th>\n",
       "      <th>Job Name</th>\n",
       "      <th>label</th>\n",
       "      <th>Company Name</th>\n",
       "      <th>Job Type</th>\n",
       "      <th>Experience Required</th>\n",
       "      <th>Department</th>\n",
       "      <th>JD</th>\n",
       "      <th>City</th>\n",
       "      <th>Date Posted</th>\n",
       "    </tr>\n",
       "  </thead>\n",
       "  <tbody>\n",
       "    <tr>\n",
       "      <th>0</th>\n",
       "      <td>Full Time New Job Positions .Net, .Netcore, Fl...</td>\n",
       "      <td>Premium Job</td>\n",
       "      <td>Nayel Solutions, Pakistan</td>\n",
       "      <td>Full Time Jobs</td>\n",
       "      <td>2 Years Job Exp.</td>\n",
       "      <td>IT Jobs</td>\n",
       "      <td>New Job Positions .net, .netcore, flutter, Tea...</td>\n",
       "      <td>Islamabad</td>\n",
       "      <td>12-Mar-21</td>\n",
       "    </tr>\n",
       "    <tr>\n",
       "      <th>1</th>\n",
       "      <td>Full Time Senior Web Developer Jobs in Pakistan</td>\n",
       "      <td>Premium Job</td>\n",
       "      <td>Eurosoft Tech Private Limited, Pakistan</td>\n",
       "      <td>Full Time Jobs</td>\n",
       "      <td>2 Years Job Exp.</td>\n",
       "      <td>IT Jobs</td>\n",
       "      <td>We are looking for an experienced Web Develope...</td>\n",
       "      <td>Karachi</td>\n",
       "      <td>12-Mar-21</td>\n",
       "    </tr>\n",
       "    <tr>\n",
       "      <th>2</th>\n",
       "      <td>Full Time Russian Speakers Jobs in Pakistan</td>\n",
       "      <td>Premium Job</td>\n",
       "      <td>ICM JAPAN, Pakistan</td>\n",
       "      <td>Full Time Jobs</td>\n",
       "      <td>&lt; 1 Year</td>\n",
       "      <td>Customer Service Jobs</td>\n",
       "      <td>International clients dealing exposure (B2B).S...</td>\n",
       "      <td>Karachi</td>\n",
       "      <td>12-Mar-21</td>\n",
       "    </tr>\n",
       "    <tr>\n",
       "      <th>3</th>\n",
       "      <td>Full Time Customer Support Specialist - Intern...</td>\n",
       "      <td>Premium Job</td>\n",
       "      <td>ibex, Pakistan</td>\n",
       "      <td>Full Time Jobs</td>\n",
       "      <td>Job for Fresh Graduates</td>\n",
       "      <td>Customer Service Jobs</td>\n",
       "      <td>Responsible for acting as a liaison between ou...</td>\n",
       "      <td>Islamabad</td>\n",
       "      <td>9-Mar-21</td>\n",
       "    </tr>\n",
       "    <tr>\n",
       "      <th>4</th>\n",
       "      <td>Full Time English Speaker - International Busi...</td>\n",
       "      <td>Premium Job</td>\n",
       "      <td>ICM JAPAN, Pakistan</td>\n",
       "      <td>Full Time Job</td>\n",
       "      <td>&lt; 1 Year</td>\n",
       "      <td>Customer Service Job</td>\n",
       "      <td>International clients dealing exposure (B2B) a...</td>\n",
       "      <td>Karachi</td>\n",
       "      <td>5-Mar-21</td>\n",
       "    </tr>\n",
       "  </tbody>\n",
       "</table>\n",
       "</div>"
      ],
      "text/plain": [
       "                                            Job Name        label  \\\n",
       "0  Full Time New Job Positions .Net, .Netcore, Fl...  Premium Job   \n",
       "1    Full Time Senior Web Developer Jobs in Pakistan  Premium Job   \n",
       "2        Full Time Russian Speakers Jobs in Pakistan  Premium Job   \n",
       "3  Full Time Customer Support Specialist - Intern...  Premium Job   \n",
       "4  Full Time English Speaker - International Busi...  Premium Job   \n",
       "\n",
       "                              Company Name        Job Type  \\\n",
       "0                Nayel Solutions, Pakistan  Full Time Jobs   \n",
       "1  Eurosoft Tech Private Limited, Pakistan  Full Time Jobs   \n",
       "2                      ICM JAPAN, Pakistan  Full Time Jobs   \n",
       "3                           ibex, Pakistan  Full Time Jobs   \n",
       "4                      ICM JAPAN, Pakistan   Full Time Job   \n",
       "\n",
       "       Experience Required             Department  \\\n",
       "0         2 Years Job Exp.                IT Jobs   \n",
       "1         2 Years Job Exp.                IT Jobs   \n",
       "2                 < 1 Year  Customer Service Jobs   \n",
       "3  Job for Fresh Graduates  Customer Service Jobs   \n",
       "4                 < 1 Year   Customer Service Job   \n",
       "\n",
       "                                                  JD       City Date Posted  \n",
       "0  New Job Positions .net, .netcore, flutter, Tea...  Islamabad   12-Mar-21  \n",
       "1  We are looking for an experienced Web Develope...    Karachi   12-Mar-21  \n",
       "2  International clients dealing exposure (B2B).S...    Karachi   12-Mar-21  \n",
       "3  Responsible for acting as a liaison between ou...  Islamabad    9-Mar-21  \n",
       "4  International clients dealing exposure (B2B) a...    Karachi    5-Mar-21  "
      ]
     },
     "execution_count": 43,
     "metadata": {},
     "output_type": "execute_result"
    }
   ],
   "source": [
    "df.head()"
   ]
  },
  {
   "cell_type": "markdown",
   "id": "286b8980-b6b7-457a-bc5c-e3c33fb77a8f",
   "metadata": {},
   "source": [
    "### Summary Statistics"
   ]
  },
  {
   "cell_type": "code",
   "execution_count": 6,
   "id": "08d57419-8f0d-4ec7-8720-db128d9a7e28",
   "metadata": {},
   "outputs": [
    {
     "data": {
      "text/plain": [
       "(6680, 9)"
      ]
     },
     "execution_count": 6,
     "metadata": {},
     "output_type": "execute_result"
    }
   ],
   "source": [
    "df.shape"
   ]
  },
  {
   "cell_type": "code",
   "execution_count": 7,
   "id": "ad8b7e04-3d93-4f09-aa1c-0721d8cdda7a",
   "metadata": {},
   "outputs": [
    {
     "data": {
      "text/html": [
       "<div>\n",
       "<style scoped>\n",
       "    .dataframe tbody tr th:only-of-type {\n",
       "        vertical-align: middle;\n",
       "    }\n",
       "\n",
       "    .dataframe tbody tr th {\n",
       "        vertical-align: top;\n",
       "    }\n",
       "\n",
       "    .dataframe thead th {\n",
       "        text-align: right;\n",
       "    }\n",
       "</style>\n",
       "<table border=\"1\" class=\"dataframe\">\n",
       "  <thead>\n",
       "    <tr style=\"text-align: right;\">\n",
       "      <th></th>\n",
       "      <th>Job Name</th>\n",
       "      <th>label</th>\n",
       "      <th>Company Name</th>\n",
       "      <th>Job Type</th>\n",
       "      <th>Experience Required</th>\n",
       "      <th>Department</th>\n",
       "      <th>JD</th>\n",
       "      <th>City</th>\n",
       "      <th>Date Posted</th>\n",
       "    </tr>\n",
       "  </thead>\n",
       "  <tbody>\n",
       "    <tr>\n",
       "      <th>count</th>\n",
       "      <td>6680</td>\n",
       "      <td>1115</td>\n",
       "      <td>6017</td>\n",
       "      <td>6680</td>\n",
       "      <td>6680</td>\n",
       "      <td>6680</td>\n",
       "      <td>6680</td>\n",
       "      <td>6680</td>\n",
       "      <td>6680</td>\n",
       "    </tr>\n",
       "    <tr>\n",
       "      <th>unique</th>\n",
       "      <td>3838</td>\n",
       "      <td>3</td>\n",
       "      <td>2879</td>\n",
       "      <td>2</td>\n",
       "      <td>17</td>\n",
       "      <td>111</td>\n",
       "      <td>5043</td>\n",
       "      <td>86</td>\n",
       "      <td>443</td>\n",
       "    </tr>\n",
       "    <tr>\n",
       "      <th>top</th>\n",
       "      <td>Full Time Graphic Designer Job in Pakistan</td>\n",
       "      <td>Gallery Job</td>\n",
       "      <td>ibex, Pakistan</td>\n",
       "      <td>Full Time Job</td>\n",
       "      <td>2 Years Job Exp.</td>\n",
       "      <td>IT Job</td>\n",
       "      <td>To generate quality leads that result in sales...</td>\n",
       "      <td>Lahore</td>\n",
       "      <td>23-Feb-21</td>\n",
       "    </tr>\n",
       "    <tr>\n",
       "      <th>freq</th>\n",
       "      <td>60</td>\n",
       "      <td>775</td>\n",
       "      <td>93</td>\n",
       "      <td>3821</td>\n",
       "      <td>1635</td>\n",
       "      <td>820</td>\n",
       "      <td>37</td>\n",
       "      <td>2046</td>\n",
       "      <td>134</td>\n",
       "    </tr>\n",
       "  </tbody>\n",
       "</table>\n",
       "</div>"
      ],
      "text/plain": [
       "                                          Job Name        label  \\\n",
       "count                                         6680         1115   \n",
       "unique                                        3838            3   \n",
       "top     Full Time Graphic Designer Job in Pakistan  Gallery Job   \n",
       "freq                                            60          775   \n",
       "\n",
       "          Company Name       Job Type Experience Required Department  \\\n",
       "count             6017           6680                6680       6680   \n",
       "unique            2879              2                  17        111   \n",
       "top     ibex, Pakistan  Full Time Job    2 Years Job Exp.     IT Job   \n",
       "freq                93           3821                1635        820   \n",
       "\n",
       "                                                       JD    City Date Posted  \n",
       "count                                                6680    6680        6680  \n",
       "unique                                               5043      86         443  \n",
       "top     To generate quality leads that result in sales...  Lahore   23-Feb-21  \n",
       "freq                                                   37    2046         134  "
      ]
     },
     "execution_count": 7,
     "metadata": {},
     "output_type": "execute_result"
    }
   ],
   "source": [
    "df.describe()"
   ]
  },
  {
   "cell_type": "code",
   "execution_count": 8,
   "id": "fba3a09b-e25d-4d69-84df-37969f66c469",
   "metadata": {},
   "outputs": [
    {
     "data": {
      "text/plain": [
       "Index(['Job Name', 'label', 'Company Name', 'Job Type', 'Experience Required',\n",
       "       'Department', 'JD', 'City', 'Date Posted'],\n",
       "      dtype='object')"
      ]
     },
     "execution_count": 8,
     "metadata": {},
     "output_type": "execute_result"
    }
   ],
   "source": [
    "df.columns"
   ]
  },
  {
   "cell_type": "code",
   "execution_count": 9,
   "id": "5fe37d44-e128-4e9f-9558-14ef7e70a20b",
   "metadata": {},
   "outputs": [
    {
     "data": {
      "text/plain": [
       "pandas.core.frame.DataFrame"
      ]
     },
     "execution_count": 9,
     "metadata": {},
     "output_type": "execute_result"
    }
   ],
   "source": [
    "type(df)"
   ]
  },
  {
   "cell_type": "code",
   "execution_count": 28,
   "id": "4c5ac9e3-44ae-4999-9ed8-76eb4edf6c85",
   "metadata": {},
   "outputs": [
    {
     "data": {
      "text/plain": [
       "Job Name                  0\n",
       "label                  5565\n",
       "Company Name            663\n",
       "Job Type                  0\n",
       "Experience Required       0\n",
       "Department                0\n",
       "JD                        0\n",
       "City                      0\n",
       "Date Posted               0\n",
       "dtype: int64"
      ]
     },
     "execution_count": 28,
     "metadata": {},
     "output_type": "execute_result"
    }
   ],
   "source": [
    "df.isnull().sum()"
   ]
  },
  {
   "cell_type": "markdown",
   "id": "3885bc3d",
   "metadata": {},
   "source": [
    "## Data Cleaning"
   ]
  },
  {
   "cell_type": "code",
   "execution_count": 29,
   "id": "53a198ac",
   "metadata": {},
   "outputs": [],
   "source": [
    "df.dropna(subset=['Company Name'] , inplace=True)"
   ]
  },
  {
   "cell_type": "code",
   "execution_count": 30,
   "id": "60dc15b4",
   "metadata": {},
   "outputs": [
    {
     "data": {
      "text/html": [
       "<div>\n",
       "<style scoped>\n",
       "    .dataframe tbody tr th:only-of-type {\n",
       "        vertical-align: middle;\n",
       "    }\n",
       "\n",
       "    .dataframe tbody tr th {\n",
       "        vertical-align: top;\n",
       "    }\n",
       "\n",
       "    .dataframe thead th {\n",
       "        text-align: right;\n",
       "    }\n",
       "</style>\n",
       "<table border=\"1\" class=\"dataframe\">\n",
       "  <thead>\n",
       "    <tr style=\"text-align: right;\">\n",
       "      <th></th>\n",
       "      <th>Job Name</th>\n",
       "      <th>label</th>\n",
       "      <th>Company Name</th>\n",
       "      <th>Job Type</th>\n",
       "      <th>Experience Required</th>\n",
       "      <th>Department</th>\n",
       "      <th>JD</th>\n",
       "      <th>City</th>\n",
       "      <th>Date Posted</th>\n",
       "    </tr>\n",
       "  </thead>\n",
       "  <tbody>\n",
       "    <tr>\n",
       "      <th>0</th>\n",
       "      <td>Full Time New Job Positions .Net, .Netcore, Fl...</td>\n",
       "      <td>Premium Job</td>\n",
       "      <td>Nayel Solutions, Pakistan</td>\n",
       "      <td>Full Time Jobs</td>\n",
       "      <td>2 Years Job Exp.</td>\n",
       "      <td>IT Jobs</td>\n",
       "      <td>New Job Positions .net, .netcore, flutter, Tea...</td>\n",
       "      <td>Islamabad</td>\n",
       "      <td>12-Mar-21</td>\n",
       "    </tr>\n",
       "    <tr>\n",
       "      <th>1</th>\n",
       "      <td>Full Time Senior Web Developer Jobs in Pakistan</td>\n",
       "      <td>Premium Job</td>\n",
       "      <td>Eurosoft Tech Private Limited, Pakistan</td>\n",
       "      <td>Full Time Jobs</td>\n",
       "      <td>2 Years Job Exp.</td>\n",
       "      <td>IT Jobs</td>\n",
       "      <td>We are looking for an experienced Web Develope...</td>\n",
       "      <td>Karachi</td>\n",
       "      <td>12-Mar-21</td>\n",
       "    </tr>\n",
       "    <tr>\n",
       "      <th>2</th>\n",
       "      <td>Full Time Russian Speakers Jobs in Pakistan</td>\n",
       "      <td>Premium Job</td>\n",
       "      <td>ICM JAPAN, Pakistan</td>\n",
       "      <td>Full Time Jobs</td>\n",
       "      <td>&lt; 1 Year</td>\n",
       "      <td>Customer Service Jobs</td>\n",
       "      <td>International clients dealing exposure (B2B).S...</td>\n",
       "      <td>Karachi</td>\n",
       "      <td>12-Mar-21</td>\n",
       "    </tr>\n",
       "    <tr>\n",
       "      <th>3</th>\n",
       "      <td>Full Time Customer Support Specialist - Intern...</td>\n",
       "      <td>Premium Job</td>\n",
       "      <td>ibex, Pakistan</td>\n",
       "      <td>Full Time Jobs</td>\n",
       "      <td>Job for Fresh Graduates</td>\n",
       "      <td>Customer Service Jobs</td>\n",
       "      <td>Responsible for acting as a liaison between ou...</td>\n",
       "      <td>Islamabad</td>\n",
       "      <td>9-Mar-21</td>\n",
       "    </tr>\n",
       "    <tr>\n",
       "      <th>4</th>\n",
       "      <td>Full Time English Speaker - International Busi...</td>\n",
       "      <td>Premium Job</td>\n",
       "      <td>ICM JAPAN, Pakistan</td>\n",
       "      <td>Full Time Job</td>\n",
       "      <td>&lt; 1 Year</td>\n",
       "      <td>Customer Service Job</td>\n",
       "      <td>International clients dealing exposure (B2B) a...</td>\n",
       "      <td>Karachi</td>\n",
       "      <td>5-Mar-21</td>\n",
       "    </tr>\n",
       "    <tr>\n",
       "      <th>...</th>\n",
       "      <td>...</td>\n",
       "      <td>...</td>\n",
       "      <td>...</td>\n",
       "      <td>...</td>\n",
       "      <td>...</td>\n",
       "      <td>...</td>\n",
       "      <td>...</td>\n",
       "      <td>...</td>\n",
       "      <td>...</td>\n",
       "    </tr>\n",
       "    <tr>\n",
       "      <th>6674</th>\n",
       "      <td>Full Time Senior Python Developer  Jobs in Pak...</td>\n",
       "      <td>NaN</td>\n",
       "      <td>Bridging Trade International, Pakistan</td>\n",
       "      <td>Full Time Jobs</td>\n",
       "      <td>4 Years Job Exp.</td>\n",
       "      <td>IT Jobs</td>\n",
       "      <td>What they will do:&amp;middot; Development of appl...</td>\n",
       "      <td>Islamabad</td>\n",
       "      <td>30-Dec-20</td>\n",
       "    </tr>\n",
       "    <tr>\n",
       "      <th>6675</th>\n",
       "      <td>Full Time Senior Software Engineer  Job in Pak...</td>\n",
       "      <td>NaN</td>\n",
       "      <td>KnovaSol, Pakistan</td>\n",
       "      <td>Full Time Job</td>\n",
       "      <td>3 Years Job Exp.</td>\n",
       "      <td>Computer Software Job</td>\n",
       "      <td>We required services of Senior Software Engine...</td>\n",
       "      <td>Islamabad</td>\n",
       "      <td>30-Dec-20</td>\n",
       "    </tr>\n",
       "    <tr>\n",
       "      <th>6677</th>\n",
       "      <td>Full Time Business Development Executive Job i...</td>\n",
       "      <td>NaN</td>\n",
       "      <td>Loop Brackets, Pakistan</td>\n",
       "      <td>Full Time Job</td>\n",
       "      <td>2 Years Job Exp.</td>\n",
       "      <td>Computer Software Job</td>\n",
       "      <td>The ideal candidate will have experience in al...</td>\n",
       "      <td>Lahore</td>\n",
       "      <td>29-Dec-20</td>\n",
       "    </tr>\n",
       "    <tr>\n",
       "      <th>6678</th>\n",
       "      <td>Full Time 3D Modeler / CG Artist Game Jobs in ...</td>\n",
       "      <td>NaN</td>\n",
       "      <td>Super Duper Studio , Pakistan</td>\n",
       "      <td>Full Time Jobs</td>\n",
       "      <td>2 Years Job Exp.</td>\n",
       "      <td>Computer Software Jobs</td>\n",
       "      <td>Must be able to create 3D Game Environments an...</td>\n",
       "      <td>Lahore</td>\n",
       "      <td>29-Dec-20</td>\n",
       "    </tr>\n",
       "    <tr>\n",
       "      <th>6679</th>\n",
       "      <td>Full Time Bidding Expert / Social Media Market...</td>\n",
       "      <td>NaN</td>\n",
       "      <td>Super Duper Studio , Pakistan</td>\n",
       "      <td>Full Time Jobs</td>\n",
       "      <td>Job for Fresh Graduates</td>\n",
       "      <td>Computer Software Jobs</td>\n",
       "      <td>Candidate Shall Be Expert in Getting Work from...</td>\n",
       "      <td>Lahore</td>\n",
       "      <td>29-Dec-20</td>\n",
       "    </tr>\n",
       "  </tbody>\n",
       "</table>\n",
       "<p>6017 rows × 9 columns</p>\n",
       "</div>"
      ],
      "text/plain": [
       "                                               Job Name        label  \\\n",
       "0     Full Time New Job Positions .Net, .Netcore, Fl...  Premium Job   \n",
       "1       Full Time Senior Web Developer Jobs in Pakistan  Premium Job   \n",
       "2           Full Time Russian Speakers Jobs in Pakistan  Premium Job   \n",
       "3     Full Time Customer Support Specialist - Intern...  Premium Job   \n",
       "4     Full Time English Speaker - International Busi...  Premium Job   \n",
       "...                                                 ...          ...   \n",
       "6674  Full Time Senior Python Developer  Jobs in Pak...          NaN   \n",
       "6675  Full Time Senior Software Engineer  Job in Pak...          NaN   \n",
       "6677  Full Time Business Development Executive Job i...          NaN   \n",
       "6678  Full Time 3D Modeler / CG Artist Game Jobs in ...          NaN   \n",
       "6679  Full Time Bidding Expert / Social Media Market...          NaN   \n",
       "\n",
       "                                 Company Name        Job Type  \\\n",
       "0                   Nayel Solutions, Pakistan  Full Time Jobs   \n",
       "1     Eurosoft Tech Private Limited, Pakistan  Full Time Jobs   \n",
       "2                         ICM JAPAN, Pakistan  Full Time Jobs   \n",
       "3                              ibex, Pakistan  Full Time Jobs   \n",
       "4                         ICM JAPAN, Pakistan   Full Time Job   \n",
       "...                                       ...             ...   \n",
       "6674   Bridging Trade International, Pakistan  Full Time Jobs   \n",
       "6675                       KnovaSol, Pakistan   Full Time Job   \n",
       "6677                  Loop Brackets, Pakistan   Full Time Job   \n",
       "6678            Super Duper Studio , Pakistan  Full Time Jobs   \n",
       "6679            Super Duper Studio , Pakistan  Full Time Jobs   \n",
       "\n",
       "          Experience Required              Department  \\\n",
       "0            2 Years Job Exp.                 IT Jobs   \n",
       "1            2 Years Job Exp.                 IT Jobs   \n",
       "2                    < 1 Year   Customer Service Jobs   \n",
       "3     Job for Fresh Graduates   Customer Service Jobs   \n",
       "4                    < 1 Year    Customer Service Job   \n",
       "...                       ...                     ...   \n",
       "6674         4 Years Job Exp.                 IT Jobs   \n",
       "6675         3 Years Job Exp.   Computer Software Job   \n",
       "6677         2 Years Job Exp.   Computer Software Job   \n",
       "6678         2 Years Job Exp.  Computer Software Jobs   \n",
       "6679  Job for Fresh Graduates  Computer Software Jobs   \n",
       "\n",
       "                                                     JD       City Date Posted  \n",
       "0     New Job Positions .net, .netcore, flutter, Tea...  Islamabad   12-Mar-21  \n",
       "1     We are looking for an experienced Web Develope...    Karachi   12-Mar-21  \n",
       "2     International clients dealing exposure (B2B).S...    Karachi   12-Mar-21  \n",
       "3     Responsible for acting as a liaison between ou...  Islamabad    9-Mar-21  \n",
       "4     International clients dealing exposure (B2B) a...    Karachi    5-Mar-21  \n",
       "...                                                 ...        ...         ...  \n",
       "6674  What they will do:&middot; Development of appl...  Islamabad   30-Dec-20  \n",
       "6675  We required services of Senior Software Engine...  Islamabad   30-Dec-20  \n",
       "6677  The ideal candidate will have experience in al...     Lahore   29-Dec-20  \n",
       "6678  Must be able to create 3D Game Environments an...     Lahore   29-Dec-20  \n",
       "6679  Candidate Shall Be Expert in Getting Work from...     Lahore   29-Dec-20  \n",
       "\n",
       "[6017 rows x 9 columns]"
      ]
     },
     "execution_count": 30,
     "metadata": {},
     "output_type": "execute_result"
    }
   ],
   "source": [
    "df"
   ]
  },
  {
   "cell_type": "code",
   "execution_count": 52,
   "id": "b34e35e7",
   "metadata": {},
   "outputs": [
    {
     "name": "stderr",
     "output_type": "stream",
     "text": [
      "C:\\Users\\progr\\AppData\\Local\\Temp\\ipykernel_9980\\787426410.py:1: FutureWarning: A value is trying to be set on a copy of a DataFrame or Series through chained assignment using an inplace method.\n",
      "The behavior will change in pandas 3.0. This inplace method will never work because the intermediate object on which we are setting values always behaves as a copy.\n",
      "\n",
      "For example, when doing 'df[col].method(value, inplace=True)', try using 'df.method({col: value}, inplace=True)' or df[col] = df[col].method(value) instead, to perform the operation inplace on the original object.\n",
      "\n",
      "\n",
      "  df['label'].fillna('unknown' , inplace=True)\n"
     ]
    }
   ],
   "source": [
    "df['label'].fillna('unknown' , inplace=True)"
   ]
  },
  {
   "cell_type": "code",
   "execution_count": 32,
   "id": "3dae4c63",
   "metadata": {},
   "outputs": [
    {
     "data": {
      "text/plain": [
       "Job Name               0\n",
       "label                  0\n",
       "Company Name           0\n",
       "Job Type               0\n",
       "Experience Required    0\n",
       "Department             0\n",
       "JD                     0\n",
       "City                   0\n",
       "Date Posted            0\n",
       "dtype: int64"
      ]
     },
     "execution_count": 32,
     "metadata": {},
     "output_type": "execute_result"
    }
   ],
   "source": [
    "df.isnull().sum()"
   ]
  },
  {
   "cell_type": "code",
   "execution_count": 50,
   "id": "f32d27b5",
   "metadata": {},
   "outputs": [],
   "source": [
    "df=df.drop_duplicates()"
   ]
  },
  {
   "cell_type": "code",
   "execution_count": 53,
   "id": "0c4735e0",
   "metadata": {},
   "outputs": [
    {
     "data": {
      "text/html": [
       "<div>\n",
       "<style scoped>\n",
       "    .dataframe tbody tr th:only-of-type {\n",
       "        vertical-align: middle;\n",
       "    }\n",
       "\n",
       "    .dataframe tbody tr th {\n",
       "        vertical-align: top;\n",
       "    }\n",
       "\n",
       "    .dataframe thead th {\n",
       "        text-align: right;\n",
       "    }\n",
       "</style>\n",
       "<table border=\"1\" class=\"dataframe\">\n",
       "  <thead>\n",
       "    <tr style=\"text-align: right;\">\n",
       "      <th></th>\n",
       "      <th>Job Name</th>\n",
       "      <th>label</th>\n",
       "      <th>Company Name</th>\n",
       "      <th>Job Type</th>\n",
       "      <th>Experience Required</th>\n",
       "      <th>Department</th>\n",
       "      <th>JD</th>\n",
       "      <th>City</th>\n",
       "      <th>Date Posted</th>\n",
       "    </tr>\n",
       "  </thead>\n",
       "  <tbody>\n",
       "    <tr>\n",
       "      <th>0</th>\n",
       "      <td>Full Time New Job Positions .Net, .Netcore, Fl...</td>\n",
       "      <td>Premium Job</td>\n",
       "      <td>Nayel Solutions, Pakistan</td>\n",
       "      <td>Full Time Jobs</td>\n",
       "      <td>2 Years Job Exp.</td>\n",
       "      <td>IT Jobs</td>\n",
       "      <td>New Job Positions .net, .netcore, flutter, Tea...</td>\n",
       "      <td>Islamabad</td>\n",
       "      <td>12-Mar-21</td>\n",
       "    </tr>\n",
       "    <tr>\n",
       "      <th>1</th>\n",
       "      <td>Full Time Senior Web Developer Jobs in Pakistan</td>\n",
       "      <td>Premium Job</td>\n",
       "      <td>Eurosoft Tech Private Limited, Pakistan</td>\n",
       "      <td>Full Time Jobs</td>\n",
       "      <td>2 Years Job Exp.</td>\n",
       "      <td>IT Jobs</td>\n",
       "      <td>We are looking for an experienced Web Develope...</td>\n",
       "      <td>Karachi</td>\n",
       "      <td>12-Mar-21</td>\n",
       "    </tr>\n",
       "    <tr>\n",
       "      <th>2</th>\n",
       "      <td>Full Time Russian Speakers Jobs in Pakistan</td>\n",
       "      <td>Premium Job</td>\n",
       "      <td>ICM JAPAN, Pakistan</td>\n",
       "      <td>Full Time Jobs</td>\n",
       "      <td>&lt; 1 Year</td>\n",
       "      <td>Customer Service Jobs</td>\n",
       "      <td>International clients dealing exposure (B2B).S...</td>\n",
       "      <td>Karachi</td>\n",
       "      <td>12-Mar-21</td>\n",
       "    </tr>\n",
       "    <tr>\n",
       "      <th>3</th>\n",
       "      <td>Full Time Customer Support Specialist - Intern...</td>\n",
       "      <td>Premium Job</td>\n",
       "      <td>ibex, Pakistan</td>\n",
       "      <td>Full Time Jobs</td>\n",
       "      <td>Job for Fresh Graduates</td>\n",
       "      <td>Customer Service Jobs</td>\n",
       "      <td>Responsible for acting as a liaison between ou...</td>\n",
       "      <td>Islamabad</td>\n",
       "      <td>9-Mar-21</td>\n",
       "    </tr>\n",
       "    <tr>\n",
       "      <th>4</th>\n",
       "      <td>Full Time English Speaker - International Busi...</td>\n",
       "      <td>Premium Job</td>\n",
       "      <td>ICM JAPAN, Pakistan</td>\n",
       "      <td>Full Time Job</td>\n",
       "      <td>&lt; 1 Year</td>\n",
       "      <td>Customer Service Job</td>\n",
       "      <td>International clients dealing exposure (B2B) a...</td>\n",
       "      <td>Karachi</td>\n",
       "      <td>5-Mar-21</td>\n",
       "    </tr>\n",
       "    <tr>\n",
       "      <th>...</th>\n",
       "      <td>...</td>\n",
       "      <td>...</td>\n",
       "      <td>...</td>\n",
       "      <td>...</td>\n",
       "      <td>...</td>\n",
       "      <td>...</td>\n",
       "      <td>...</td>\n",
       "      <td>...</td>\n",
       "      <td>...</td>\n",
       "    </tr>\n",
       "    <tr>\n",
       "      <th>6665</th>\n",
       "      <td>Full Time Sr. Full Stack Engineer  Job in Paki...</td>\n",
       "      <td>unknown</td>\n",
       "      <td>Professional Employers Private Limited, Pakistan</td>\n",
       "      <td>Full Time Job</td>\n",
       "      <td>2 Years Job Exp.</td>\n",
       "      <td>Computer Software Job</td>\n",
       "      <td>Job description:Adapting interface for modern ...</td>\n",
       "      <td>Lahore</td>\n",
       "      <td>30-Dec-20</td>\n",
       "    </tr>\n",
       "    <tr>\n",
       "      <th>6666</th>\n",
       "      <td>Full Time Node Developer Jobs in Pakistan</td>\n",
       "      <td>unknown</td>\n",
       "      <td>Professional Employers Private Limited, Pakistan</td>\n",
       "      <td>Full Time Jobs</td>\n",
       "      <td>2 Years Job Exp.</td>\n",
       "      <td>Computer Software Jobs</td>\n",
       "      <td>We are looking for a highly capable Node.js se...</td>\n",
       "      <td>Lahore</td>\n",
       "      <td>30-Dec-20</td>\n",
       "    </tr>\n",
       "    <tr>\n",
       "      <th>6667</th>\n",
       "      <td>Full Time Principal Software Engineer - Node J...</td>\n",
       "      <td>unknown</td>\n",
       "      <td>Professional Employers Private Limited, Pakistan</td>\n",
       "      <td>Full Time Job</td>\n",
       "      <td>4 Years Job Exp.</td>\n",
       "      <td>Computer Software Job</td>\n",
       "      <td>We are looking for a highly capable Node.js se...</td>\n",
       "      <td>Lahore</td>\n",
       "      <td>30-Dec-20</td>\n",
       "    </tr>\n",
       "    <tr>\n",
       "      <th>6668</th>\n",
       "      <td>Full Time Android Developer  Job in Pakistan</td>\n",
       "      <td>unknown</td>\n",
       "      <td>KnovaSol, Pakistan</td>\n",
       "      <td>Full Time Job</td>\n",
       "      <td>2 Years Job Exp.</td>\n",
       "      <td>Computer Software Job</td>\n",
       "      <td>We required services of Android developer.Mini...</td>\n",
       "      <td>Islamabad</td>\n",
       "      <td>30-Dec-20</td>\n",
       "    </tr>\n",
       "    <tr>\n",
       "      <th>6675</th>\n",
       "      <td>Full Time Senior Software Engineer  Job in Pak...</td>\n",
       "      <td>unknown</td>\n",
       "      <td>KnovaSol, Pakistan</td>\n",
       "      <td>Full Time Job</td>\n",
       "      <td>3 Years Job Exp.</td>\n",
       "      <td>Computer Software Job</td>\n",
       "      <td>We required services of Senior Software Engine...</td>\n",
       "      <td>Islamabad</td>\n",
       "      <td>30-Dec-20</td>\n",
       "    </tr>\n",
       "  </tbody>\n",
       "</table>\n",
       "<p>5625 rows × 9 columns</p>\n",
       "</div>"
      ],
      "text/plain": [
       "                                               Job Name        label  \\\n",
       "0     Full Time New Job Positions .Net, .Netcore, Fl...  Premium Job   \n",
       "1       Full Time Senior Web Developer Jobs in Pakistan  Premium Job   \n",
       "2           Full Time Russian Speakers Jobs in Pakistan  Premium Job   \n",
       "3     Full Time Customer Support Specialist - Intern...  Premium Job   \n",
       "4     Full Time English Speaker - International Busi...  Premium Job   \n",
       "...                                                 ...          ...   \n",
       "6665  Full Time Sr. Full Stack Engineer  Job in Paki...      unknown   \n",
       "6666          Full Time Node Developer Jobs in Pakistan      unknown   \n",
       "6667  Full Time Principal Software Engineer - Node J...      unknown   \n",
       "6668       Full Time Android Developer  Job in Pakistan      unknown   \n",
       "6675  Full Time Senior Software Engineer  Job in Pak...      unknown   \n",
       "\n",
       "                                          Company Name        Job Type  \\\n",
       "0                            Nayel Solutions, Pakistan  Full Time Jobs   \n",
       "1              Eurosoft Tech Private Limited, Pakistan  Full Time Jobs   \n",
       "2                                  ICM JAPAN, Pakistan  Full Time Jobs   \n",
       "3                                       ibex, Pakistan  Full Time Jobs   \n",
       "4                                  ICM JAPAN, Pakistan   Full Time Job   \n",
       "...                                                ...             ...   \n",
       "6665  Professional Employers Private Limited, Pakistan   Full Time Job   \n",
       "6666  Professional Employers Private Limited, Pakistan  Full Time Jobs   \n",
       "6667  Professional Employers Private Limited, Pakistan   Full Time Job   \n",
       "6668                                KnovaSol, Pakistan   Full Time Job   \n",
       "6675                                KnovaSol, Pakistan   Full Time Job   \n",
       "\n",
       "          Experience Required              Department  \\\n",
       "0            2 Years Job Exp.                 IT Jobs   \n",
       "1            2 Years Job Exp.                 IT Jobs   \n",
       "2                    < 1 Year   Customer Service Jobs   \n",
       "3     Job for Fresh Graduates   Customer Service Jobs   \n",
       "4                    < 1 Year    Customer Service Job   \n",
       "...                       ...                     ...   \n",
       "6665         2 Years Job Exp.   Computer Software Job   \n",
       "6666         2 Years Job Exp.  Computer Software Jobs   \n",
       "6667         4 Years Job Exp.   Computer Software Job   \n",
       "6668         2 Years Job Exp.   Computer Software Job   \n",
       "6675         3 Years Job Exp.   Computer Software Job   \n",
       "\n",
       "                                                     JD       City Date Posted  \n",
       "0     New Job Positions .net, .netcore, flutter, Tea...  Islamabad   12-Mar-21  \n",
       "1     We are looking for an experienced Web Develope...    Karachi   12-Mar-21  \n",
       "2     International clients dealing exposure (B2B).S...    Karachi   12-Mar-21  \n",
       "3     Responsible for acting as a liaison between ou...  Islamabad    9-Mar-21  \n",
       "4     International clients dealing exposure (B2B) a...    Karachi    5-Mar-21  \n",
       "...                                                 ...        ...         ...  \n",
       "6665  Job description:Adapting interface for modern ...     Lahore   30-Dec-20  \n",
       "6666  We are looking for a highly capable Node.js se...     Lahore   30-Dec-20  \n",
       "6667  We are looking for a highly capable Node.js se...     Lahore   30-Dec-20  \n",
       "6668  We required services of Android developer.Mini...  Islamabad   30-Dec-20  \n",
       "6675  We required services of Senior Software Engine...  Islamabad   30-Dec-20  \n",
       "\n",
       "[5625 rows x 9 columns]"
      ]
     },
     "execution_count": 53,
     "metadata": {},
     "output_type": "execute_result"
    }
   ],
   "source": [
    "df"
   ]
  },
  {
   "cell_type": "code",
   "execution_count": 54,
   "id": "d1f256f5",
   "metadata": {},
   "outputs": [
    {
     "data": {
      "text/plain": [
       "array(['Premium Job', 'Hot Job', 'unknown', 'Gallery Job'], dtype=object)"
      ]
     },
     "execution_count": 54,
     "metadata": {},
     "output_type": "execute_result"
    }
   ],
   "source": [
    "df['label'].unique()"
   ]
  },
  {
   "cell_type": "code",
   "execution_count": 55,
   "id": "84de77f3",
   "metadata": {},
   "outputs": [
    {
     "data": {
      "text/plain": [
       "array(['Islamabad', 'Karachi', 'Faisalabad', 'Lahore', 'Peshawar',\n",
       "       'Sukkur', 'Talagang', 'Muridke', 'Dera Ghazi Khan', 'Rawalpindi',\n",
       "       'Landi Kotal', 'Dera Ismail Khan', 'Jhang', 'Swat', 'Multan',\n",
       "       'Sahiwal', 'Hyderabad', 'Mirpur', 'Chakwal', 'Shahdadpur', 'Sind',\n",
       "       'Punjab', 'Sheikhupura', 'Shikarpur', 'Gujranwala', 'Daska',\n",
       "       'Khushab', 'Lodhran', 'Dera Murad Jamali', 'Dir Lower', 'Ranipur',\n",
       "       'Nawabshah', 'Mithi', 'Rahim Yar Khan', 'Attock', 'Bahawalpur',\n",
       "       'Muzaffarabad', 'Balakot', 'Abbottabad', 'Sialkot', 'Malakand',\n",
       "       'Bhakkar', 'Gujrat', 'Hasan Abdal', 'Mardan', 'Khanewal',\n",
       "       'Ahmadpur East', 'Kharian', 'Mailsi', 'Sargodha', 'Haripur', 'Wah',\n",
       "       'Bhalwal', 'Dipalpur', 'Ghakhar Mandi', 'Bahawalnagar', 'Pattoki',\n",
       "       'Hazara', 'Bhurban', 'Ali Khan Abad', 'Chiniot', 'Besham',\n",
       "       'Layyah', 'Muzaffargarh', 'Mirpur Khas', 'Gojra', 'Kasur', 'Badin',\n",
       "       'Jhelum', 'Kamoke', 'Malakwal', 'Gujar Khan', 'Kamra', 'Quetta',\n",
       "       'Dadu', 'Chitral', 'Bajaur', 'Gilgit', 'Nankana Sahib', 'Burewala',\n",
       "       'Kohat', 'Arifwala', 'Sadiqabad', 'Mianwali', 'Kamalia', 'Dina'],\n",
       "      dtype=object)"
      ]
     },
     "execution_count": 55,
     "metadata": {},
     "output_type": "execute_result"
    }
   ],
   "source": [
    "df['City'].unique()"
   ]
  },
  {
   "cell_type": "markdown",
   "id": "54b34724",
   "metadata": {},
   "source": [
    "### Top Cities with Heighest Job Posting"
   ]
  },
  {
   "cell_type": "code",
   "execution_count": 56,
   "id": "388e0ae4",
   "metadata": {},
   "outputs": [
    {
     "name": "stdout",
     "output_type": "stream",
     "text": [
      "City\n",
      "Lahore        1767\n",
      "Islamabad     1623\n",
      "Karachi       1424\n",
      "Faisalabad     196\n",
      "Rawalpindi     112\n",
      "Sialkot         82\n",
      "Multan          54\n",
      "Gujranwala      50\n",
      "Hyderabad       48\n",
      "Abbottabad      31\n",
      "Name: count, dtype: int64\n"
     ]
    }
   ],
   "source": [
    "top_cities = df['City'].value_counts().head(10)\n",
    "print(top_cities)\n"
   ]
  },
  {
   "cell_type": "code",
   "execution_count": 58,
   "id": "a8ba1810",
   "metadata": {},
   "outputs": [
    {
     "data": {
      "image/png": "[encoded data removed]",
      "text/plain": [
       "<Figure size 1000x600 with 1 Axes>"
      ]
     },
     "metadata": {},
     "output_type": "display_data"
    }
   ],
   "source": [
    "top_cities.plot(kind='bar', figsize=(10, 6), color='green')\n",
    "plt.title('Top Cities by Job Postings', fontsize=16)\n",
    "plt.xlabel('City', fontsize=14)\n",
    "plt.ylabel('Number of Job Postings', fontsize=14)\n",
    "plt.xticks(rotation=45)\n",
    "plt.show()\n"
   ]
  },
  {
   "cell_type": "markdown",
   "id": "8b49e062",
   "metadata": {},
   "source": [
    "### Top Departments"
   ]
  },
  {
   "cell_type": "code",
   "execution_count": 60,
   "id": "b68fdcde",
   "metadata": {},
   "outputs": [
    {
     "name": "stdout",
     "output_type": "stream",
     "text": [
      "Department\n",
      "IT Job                    713\n",
      "IT Jobs                   532\n",
      "Computer Software Job     409\n",
      "Computer Software Jobs    356\n",
      "Customer Service Jobs     354\n",
      "Web & E-commerce Job      281\n",
      "Web & E-commerce Jobs     228\n",
      "Sales Jobs                227\n",
      "Marketing Job             216\n",
      "Admin Job                 175\n",
      "Name: count, dtype: int64\n"
     ]
    }
   ],
   "source": [
    "top_department=df['Department'].value_counts().head(10)\n",
    "print(top_department)"
   ]
  },
  {
   "cell_type": "code",
   "execution_count": 61,
   "id": "7ab49136",
   "metadata": {},
   "outputs": [
    {
     "data": {
      "image/png": "[encoded data removed]",
      "text/plain": [
       "<Figure size 1000x600 with 1 Axes>"
      ]
     },
     "metadata": {},
     "output_type": "display_data"
    }
   ],
   "source": [
    "top_department.plot(kind='bar', figsize=(10, 6), color='yellow')\n",
    "plt.title('Top Departments by Job Postings', fontsize=16)\n",
    "plt.xlabel('Departments', fontsize=14)\n",
    "plt.ylabel('Number of Job Postings', fontsize=14)\n",
    "plt.xticks(rotation=45)\n",
    "plt.show()"
   ]
  },
  {
   "cell_type": "code",
   "execution_count": null,
   "id": "f37e71f3",
   "metadata": {},
   "outputs": [],
   "source": []
  }
 ],
 "metadata": {
  "kernelspec": {
   "display_name": "Python 3",
   "language": "python",
   "name": "python3"
  },
  "language_info": {
   "codemirror_mode": {
    "name": "ipython",
    "version": 3
   },
   "file_extension": ".py",
   "mimetype": "text/x-python",
   "name": "python",
   "nbconvert_exporter": "python",
   "pygments_lexer": "ipython3",
   "version": "3.12.1"
  }
 },
 "nbformat": 4,
 "nbformat_minor": 5
}
