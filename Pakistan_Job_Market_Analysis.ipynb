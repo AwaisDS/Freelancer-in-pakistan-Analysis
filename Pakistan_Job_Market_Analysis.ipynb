{
 "cells": [
  {
   "cell_type": "markdown",
   "id": "b2903c5f-cffa-45b2-87f6-9769ff237f0e",
   "metadata": {},
   "source": [
    "# Pakistan Job Analysis Dec 19 - Mar-21"
   ]
  },
  {
   "cell_type": "markdown",
   "id": "c17c8c09-73ae-44b7-a938-c25020109c8c",
   "metadata": {},
   "source": [
    "## Importing Essential Libraries"
   ]
  },
  {
   "cell_type": "code",
   "execution_count": 1,
   "id": "5bac75f0-d400-435d-a4c7-e7343b5a8765",
   "metadata": {},
   "outputs": [],
   "source": [
    "import pandas as pd\n",
    "import numpy as np\n",
    "import matplotlib.pyplot as plt\n",
    "import seaborn as sns"
   ]
  },
  {
   "cell_type": "markdown",
   "id": "6a899de0-27ec-4433-a7ee-802103883ed8",
   "metadata": {},
   "source": [
    "### loading Data set"
   ]
  },
  {
   "cell_type": "code",
   "execution_count": 17,
   "id": "3b39f029-bc24-432c-b3eb-10fad2bb6af9",
   "metadata": {},
   "outputs": [],
   "source": [
    "file_path='Pakistan Available Job Dec 19 - Mar-21.csv'\n",
    "df=pd.read_csv(file_path , index_col=0)"
   ]
  },
  {
   "cell_type": "code",
   "execution_count": 18,
   "id": "9c7d85e3-439a-42a0-a98b-e261e5b63eba",
   "metadata": {},
   "outputs": [
    {
     "data": {
      "text/html": [
       "<div>\n",
       "<style scoped>\n",
       "    .dataframe tbody tr th:only-of-type {\n",
       "        vertical-align: middle;\n",
       "    }\n",
       "\n",
       "    .dataframe tbody tr th {\n",
       "        vertical-align: top;\n",
       "    }\n",
       "\n",
       "    .dataframe thead th {\n",
       "        text-align: right;\n",
       "    }\n",
       "</style>\n",
       "<table border=\"1\" class=\"dataframe\">\n",
       "  <thead>\n",
       "    <tr style=\"text-align: right;\">\n",
       "      <th></th>\n",
       "      <th>label</th>\n",
       "      <th>Company Name</th>\n",
       "      <th>Job Type</th>\n",
       "      <th>Experience Required</th>\n",
       "      <th>Department</th>\n",
       "      <th>JD</th>\n",
       "      <th>City</th>\n",
       "      <th>Date Posted</th>\n",
       "    </tr>\n",
       "    <tr>\n",
       "      <th>Job Name</th>\n",
       "      <th></th>\n",
       "      <th></th>\n",
       "      <th></th>\n",
       "      <th></th>\n",
       "      <th></th>\n",
       "      <th></th>\n",
       "      <th></th>\n",
       "      <th></th>\n",
       "    </tr>\n",
       "  </thead>\n",
       "  <tbody>\n",
       "    <tr>\n",
       "      <th>Full Time New Job Positions .Net, .Netcore, Flutter, Tea Boy Jobs in Pakistan</th>\n",
       "      <td>Premium Job</td>\n",
       "      <td>Nayel Solutions, Pakistan</td>\n",
       "      <td>Full Time Jobs</td>\n",
       "      <td>2 Years Job Exp.</td>\n",
       "      <td>IT Jobs</td>\n",
       "      <td>New Job Positions .net, .netcore, flutter, Tea...</td>\n",
       "      <td>Islamabad</td>\n",
       "      <td>12-Mar-21</td>\n",
       "    </tr>\n",
       "    <tr>\n",
       "      <th>Full Time Senior Web Developer Jobs in Pakistan</th>\n",
       "      <td>Premium Job</td>\n",
       "      <td>Eurosoft Tech Private Limited, Pakistan</td>\n",
       "      <td>Full Time Jobs</td>\n",
       "      <td>2 Years Job Exp.</td>\n",
       "      <td>IT Jobs</td>\n",
       "      <td>We are looking for an experienced Web Develope...</td>\n",
       "      <td>Karachi</td>\n",
       "      <td>12-Mar-21</td>\n",
       "    </tr>\n",
       "    <tr>\n",
       "      <th>Full Time Russian Speakers Jobs in Pakistan</th>\n",
       "      <td>Premium Job</td>\n",
       "      <td>ICM JAPAN, Pakistan</td>\n",
       "      <td>Full Time Jobs</td>\n",
       "      <td>&lt; 1 Year</td>\n",
       "      <td>Customer Service Jobs</td>\n",
       "      <td>International clients dealing exposure (B2B).S...</td>\n",
       "      <td>Karachi</td>\n",
       "      <td>12-Mar-21</td>\n",
       "    </tr>\n",
       "    <tr>\n",
       "      <th>Full Time Customer Support Specialist - International Jobs in Pakistan</th>\n",
       "      <td>Premium Job</td>\n",
       "      <td>ibex, Pakistan</td>\n",
       "      <td>Full Time Jobs</td>\n",
       "      <td>Job for Fresh Graduates</td>\n",
       "      <td>Customer Service Jobs</td>\n",
       "      <td>Responsible for acting as a liaison between ou...</td>\n",
       "      <td>Islamabad</td>\n",
       "      <td>9-Mar-21</td>\n",
       "    </tr>\n",
       "    <tr>\n",
       "      <th>Full Time English Speaker - International Business Development Executive - BDE Job in Pakistan</th>\n",
       "      <td>Premium Job</td>\n",
       "      <td>ICM JAPAN, Pakistan</td>\n",
       "      <td>Full Time Job</td>\n",
       "      <td>&lt; 1 Year</td>\n",
       "      <td>Customer Service Job</td>\n",
       "      <td>International clients dealing exposure (B2B) a...</td>\n",
       "      <td>Karachi</td>\n",
       "      <td>5-Mar-21</td>\n",
       "    </tr>\n",
       "  </tbody>\n",
       "</table>\n",
       "</div>"
      ],
      "text/plain": [
       "                                                          label  \\\n",
       "Job Name                                                          \n",
       "Full Time New Job Positions .Net, .Netcore, Flu...  Premium Job   \n",
       "Full Time Senior Web Developer Jobs in Pakistan     Premium Job   \n",
       "Full Time Russian Speakers Jobs in Pakistan         Premium Job   \n",
       "Full Time Customer Support Specialist - Interna...  Premium Job   \n",
       "Full Time English Speaker - International Busin...  Premium Job   \n",
       "\n",
       "                                                                               Company Name  \\\n",
       "Job Name                                                                                      \n",
       "Full Time New Job Positions .Net, .Netcore, Flu...                Nayel Solutions, Pakistan   \n",
       "Full Time Senior Web Developer Jobs in Pakistan     Eurosoft Tech Private Limited, Pakistan   \n",
       "Full Time Russian Speakers Jobs in Pakistan                             ICM JAPAN, Pakistan   \n",
       "Full Time Customer Support Specialist - Interna...                           ibex, Pakistan   \n",
       "Full Time English Speaker - International Busin...                      ICM JAPAN, Pakistan   \n",
       "\n",
       "                                                          Job Type  \\\n",
       "Job Name                                                             \n",
       "Full Time New Job Positions .Net, .Netcore, Flu...  Full Time Jobs   \n",
       "Full Time Senior Web Developer Jobs in Pakistan     Full Time Jobs   \n",
       "Full Time Russian Speakers Jobs in Pakistan         Full Time Jobs   \n",
       "Full Time Customer Support Specialist - Interna...  Full Time Jobs   \n",
       "Full Time English Speaker - International Busin...   Full Time Job   \n",
       "\n",
       "                                                        Experience Required  \\\n",
       "Job Name                                                                      \n",
       "Full Time New Job Positions .Net, .Netcore, Flu...         2 Years Job Exp.   \n",
       "Full Time Senior Web Developer Jobs in Pakistan            2 Years Job Exp.   \n",
       "Full Time Russian Speakers Jobs in Pakistan                        < 1 Year   \n",
       "Full Time Customer Support Specialist - Interna...  Job for Fresh Graduates   \n",
       "Full Time English Speaker - International Busin...                 < 1 Year   \n",
       "\n",
       "                                                               Department  \\\n",
       "Job Name                                                                    \n",
       "Full Time New Job Positions .Net, .Netcore, Flu...                IT Jobs   \n",
       "Full Time Senior Web Developer Jobs in Pakistan                   IT Jobs   \n",
       "Full Time Russian Speakers Jobs in Pakistan         Customer Service Jobs   \n",
       "Full Time Customer Support Specialist - Interna...  Customer Service Jobs   \n",
       "Full Time English Speaker - International Busin...   Customer Service Job   \n",
       "\n",
       "                                                                                                   JD  \\\n",
       "Job Name                                                                                                \n",
       "Full Time New Job Positions .Net, .Netcore, Flu...  New Job Positions .net, .netcore, flutter, Tea...   \n",
       "Full Time Senior Web Developer Jobs in Pakistan     We are looking for an experienced Web Develope...   \n",
       "Full Time Russian Speakers Jobs in Pakistan         International clients dealing exposure (B2B).S...   \n",
       "Full Time Customer Support Specialist - Interna...  Responsible for acting as a liaison between ou...   \n",
       "Full Time English Speaker - International Busin...  International clients dealing exposure (B2B) a...   \n",
       "\n",
       "                                                         City Date Posted  \n",
       "Job Name                                                                   \n",
       "Full Time New Job Positions .Net, .Netcore, Flu...  Islamabad   12-Mar-21  \n",
       "Full Time Senior Web Developer Jobs in Pakistan       Karachi   12-Mar-21  \n",
       "Full Time Russian Speakers Jobs in Pakistan           Karachi   12-Mar-21  \n",
       "Full Time Customer Support Specialist - Interna...  Islamabad    9-Mar-21  \n",
       "Full Time English Speaker - International Busin...    Karachi    5-Mar-21  "
      ]
     },
     "execution_count": 18,
     "metadata": {},
     "output_type": "execute_result"
    }
   ],
   "source": [
    "df.head()"
   ]
  },
  {
   "cell_type": "markdown",
   "id": "286b8980-b6b7-457a-bc5c-e3c33fb77a8f",
   "metadata": {},
   "source": [
    "### Summary Statistics"
   ]
  },
  {
   "cell_type": "code",
   "execution_count": 19,
   "id": "08d57419-8f0d-4ec7-8720-db128d9a7e28",
   "metadata": {},
   "outputs": [
    {
     "data": {
      "text/plain": [
       "(6680, 8)"
      ]
     },
     "execution_count": 19,
     "metadata": {},
     "output_type": "execute_result"
    }
   ],
   "source": [
    "df.shape"
   ]
  },
  {
   "cell_type": "code",
   "execution_count": 20,
   "id": "ad8b7e04-3d93-4f09-aa1c-0721d8cdda7a",
   "metadata": {},
   "outputs": [
    {
     "data": {
      "text/html": [
       "<div>\n",
       "<style scoped>\n",
       "    .dataframe tbody tr th:only-of-type {\n",
       "        vertical-align: middle;\n",
       "    }\n",
       "\n",
       "    .dataframe tbody tr th {\n",
       "        vertical-align: top;\n",
       "    }\n",
       "\n",
       "    .dataframe thead th {\n",
       "        text-align: right;\n",
       "    }\n",
       "</style>\n",
       "<table border=\"1\" class=\"dataframe\">\n",
       "  <thead>\n",
       "    <tr style=\"text-align: right;\">\n",
       "      <th></th>\n",
       "      <th>label</th>\n",
       "      <th>Company Name</th>\n",
       "      <th>Job Type</th>\n",
       "      <th>Experience Required</th>\n",
       "      <th>Department</th>\n",
       "      <th>JD</th>\n",
       "      <th>City</th>\n",
       "      <th>Date Posted</th>\n",
       "    </tr>\n",
       "  </thead>\n",
       "  <tbody>\n",
       "    <tr>\n",
       "      <th>count</th>\n",
       "      <td>1115</td>\n",
       "      <td>6017</td>\n",
       "      <td>6680</td>\n",
       "      <td>6680</td>\n",
       "      <td>6680</td>\n",
       "      <td>6680</td>\n",
       "      <td>6680</td>\n",
       "      <td>6680</td>\n",
       "    </tr>\n",
       "    <tr>\n",
       "      <th>unique</th>\n",
       "      <td>3</td>\n",
       "      <td>2879</td>\n",
       "      <td>2</td>\n",
       "      <td>17</td>\n",
       "      <td>111</td>\n",
       "      <td>5043</td>\n",
       "      <td>86</td>\n",
       "      <td>443</td>\n",
       "    </tr>\n",
       "    <tr>\n",
       "      <th>top</th>\n",
       "      <td>Gallery Job</td>\n",
       "      <td>ibex, Pakistan</td>\n",
       "      <td>Full Time Job</td>\n",
       "      <td>2 Years Job Exp.</td>\n",
       "      <td>IT Job</td>\n",
       "      <td>To generate quality leads that result in sales...</td>\n",
       "      <td>Lahore</td>\n",
       "      <td>23-Feb-21</td>\n",
       "    </tr>\n",
       "    <tr>\n",
       "      <th>freq</th>\n",
       "      <td>775</td>\n",
       "      <td>93</td>\n",
       "      <td>3821</td>\n",
       "      <td>1635</td>\n",
       "      <td>820</td>\n",
       "      <td>37</td>\n",
       "      <td>2046</td>\n",
       "      <td>134</td>\n",
       "    </tr>\n",
       "  </tbody>\n",
       "</table>\n",
       "</div>"
      ],
      "text/plain": [
       "              label    Company Name       Job Type Experience Required  \\\n",
       "count          1115            6017           6680                6680   \n",
       "unique            3            2879              2                  17   \n",
       "top     Gallery Job  ibex, Pakistan  Full Time Job    2 Years Job Exp.   \n",
       "freq            775              93           3821                1635   \n",
       "\n",
       "       Department                                                 JD    City  \\\n",
       "count        6680                                               6680    6680   \n",
       "unique        111                                               5043      86   \n",
       "top        IT Job  To generate quality leads that result in sales...  Lahore   \n",
       "freq          820                                                 37    2046   \n",
       "\n",
       "       Date Posted  \n",
       "count         6680  \n",
       "unique         443  \n",
       "top      23-Feb-21  \n",
       "freq           134  "
      ]
     },
     "execution_count": 20,
     "metadata": {},
     "output_type": "execute_result"
    }
   ],
   "source": [
    "df.describe()"
   ]
  },
  {
   "cell_type": "code",
   "execution_count": 21,
   "id": "fba3a09b-e25d-4d69-84df-37969f66c469",
   "metadata": {},
   "outputs": [
    {
     "data": {
      "text/plain": [
       "Index(['label', 'Company Name', 'Job Type', 'Experience Required',\n",
       "       'Department', 'JD', 'City', 'Date Posted'],\n",
       "      dtype='object')"
      ]
     },
     "execution_count": 21,
     "metadata": {},
     "output_type": "execute_result"
    }
   ],
   "source": [
    "df.columns"
   ]
  },
  {
   "cell_type": "code",
   "execution_count": 22,
   "id": "5fe37d44-e128-4e9f-9558-14ef7e70a20b",
   "metadata": {},
   "outputs": [
    {
     "data": {
      "text/plain": [
       "pandas.core.frame.DataFrame"
      ]
     },
     "execution_count": 22,
     "metadata": {},
     "output_type": "execute_result"
    }
   ],
   "source": [
    "type(df)"
   ]
  },
  {
   "cell_type": "code",
   "execution_count": 23,
   "id": "4c5ac9e3-44ae-4999-9ed8-76eb4edf6c85",
   "metadata": {},
   "outputs": [
    {
     "data": {
      "text/plain": [
       "label                  5565\n",
       "Company Name            663\n",
       "Job Type                  0\n",
       "Experience Required       0\n",
       "Department                0\n",
       "JD                        0\n",
       "City                      0\n",
       "Date Posted               0\n",
       "dtype: int64"
      ]
     },
     "execution_count": 23,
     "metadata": {},
     "output_type": "execute_result"
    }
   ],
   "source": [
    "df.isnull().sum()"
   ]
  },
  {
   "cell_type": "code",
   "execution_count": 16,
   "id": "3885bc3d",
   "metadata": {},
   "outputs": [
    {
     "data": {
      "text/plain": [
       "0       False\n",
       "1       False\n",
       "2       False\n",
       "3       False\n",
       "4       False\n",
       "        ...  \n",
       "1345     True\n",
       "1346     True\n",
       "1347     True\n",
       "1348     True\n",
       "1349     True\n",
       "Length: 1350, dtype: bool"
      ]
     },
     "execution_count": 16,
     "metadata": {},
     "output_type": "execute_result"
    }
   ],
   "source": []
  },
  {
   "cell_type": "code",
   "execution_count": null,
   "id": "53a198ac",
   "metadata": {},
   "outputs": [],
   "source": []
  }
 ],
 "metadata": {
  "kernelspec": {
   "display_name": "base",
   "language": "python",
   "name": "python3"
  },
  "language_info": {
   "codemirror_mode": {
    "name": "ipython",
    "version": 3
   },
   "file_extension": ".py",
   "mimetype": "text/x-python",
   "name": "python",
   "nbconvert_exporter": "python",
   "pygments_lexer": "ipython3",
   "version": "3.12.7"
  }
 },
 "nbformat": 4,
 "nbformat_minor": 5
}
