{
 "cells": [
  {
   "cell_type": "markdown",
   "id": "b2903c5f-cffa-45b2-87f6-9769ff237f0e",
   "metadata": {},
   "source": [
    "# Pakistan Job Analysis Dec 19 - Mar-21"
   ]
  },
  {
   "cell_type": "markdown",
   "id": "c17c8c09-73ae-44b7-a938-c25020109c8c",
   "metadata": {},
   "source": [
    "## Importing Essential Libraries"
   ]
  },
  {
   "cell_type": "code",
   "execution_count": 1,
   "id": "5bac75f0-d400-435d-a4c7-e7343b5a8765",
   "metadata": {},
   "outputs": [],
   "source": [
    "import pandas as pd\n",
    "import numpy as np\n",
    "import matplotlib.pyplot as plt\n",
    "import seaborn as sns"
   ]
  },
  {
   "cell_type": "markdown",
   "id": "6a899de0-27ec-4433-a7ee-802103883ed8",
   "metadata": {},
   "source": [
    "### loading Data set"
   ]
  },
  {
   "cell_type": "code",
   "execution_count": 4,
   "id": "3b39f029-bc24-432c-b3eb-10fad2bb6af9",
   "metadata": {},
   "outputs": [],
   "source": [
    "file_path='Pakistan Available Job Dec 19 - Mar-21.csv'\n",
    "df=pd.read_csv(file_path )"
   ]
  },
  {
   "cell_type": "code",
   "execution_count": 5,
   "id": "9c7d85e3-439a-42a0-a98b-e261e5b63eba",
   "metadata": {},
   "outputs": [
    {
     "data": {
      "text/html": [
       "<div>\n",
       "<style scoped>\n",
       "    .dataframe tbody tr th:only-of-type {\n",
       "        vertical-align: middle;\n",
       "    }\n",
       "\n",
       "    .dataframe tbody tr th {\n",
       "        vertical-align: top;\n",
       "    }\n",
       "\n",
       "    .dataframe thead th {\n",
       "        text-align: right;\n",
       "    }\n",
       "</style>\n",
       "<table border=\"1\" class=\"dataframe\">\n",
       "  <thead>\n",
       "    <tr style=\"text-align: right;\">\n",
       "      <th></th>\n",
       "      <th>Job Name</th>\n",
       "      <th>label</th>\n",
       "      <th>Company Name</th>\n",
       "      <th>Job Type</th>\n",
       "      <th>Experience Required</th>\n",
       "      <th>Department</th>\n",
       "      <th>JD</th>\n",
       "      <th>City</th>\n",
       "      <th>Date Posted</th>\n",
       "    </tr>\n",
       "  </thead>\n",
       "  <tbody>\n",
       "    <tr>\n",
       "      <th>0</th>\n",
       "      <td>Full Time New Job Positions .Net, .Netcore, Fl...</td>\n",
       "      <td>Premium Job</td>\n",
       "      <td>Nayel Solutions, Pakistan</td>\n",
       "      <td>Full Time Jobs</td>\n",
       "      <td>2 Years Job Exp.</td>\n",
       "      <td>IT Jobs</td>\n",
       "      <td>New Job Positions .net, .netcore, flutter, Tea...</td>\n",
       "      <td>Islamabad</td>\n",
       "      <td>12-Mar-21</td>\n",
       "    </tr>\n",
       "    <tr>\n",
       "      <th>1</th>\n",
       "      <td>Full Time Senior Web Developer Jobs in Pakistan</td>\n",
       "      <td>Premium Job</td>\n",
       "      <td>Eurosoft Tech Private Limited, Pakistan</td>\n",
       "      <td>Full Time Jobs</td>\n",
       "      <td>2 Years Job Exp.</td>\n",
       "      <td>IT Jobs</td>\n",
       "      <td>We are looking for an experienced Web Develope...</td>\n",
       "      <td>Karachi</td>\n",
       "      <td>12-Mar-21</td>\n",
       "    </tr>\n",
       "    <tr>\n",
       "      <th>2</th>\n",
       "      <td>Full Time Russian Speakers Jobs in Pakistan</td>\n",
       "      <td>Premium Job</td>\n",
       "      <td>ICM JAPAN, Pakistan</td>\n",
       "      <td>Full Time Jobs</td>\n",
       "      <td>&lt; 1 Year</td>\n",
       "      <td>Customer Service Jobs</td>\n",
       "      <td>International clients dealing exposure (B2B).S...</td>\n",
       "      <td>Karachi</td>\n",
       "      <td>12-Mar-21</td>\n",
       "    </tr>\n",
       "    <tr>\n",
       "      <th>3</th>\n",
       "      <td>Full Time Customer Support Specialist - Intern...</td>\n",
       "      <td>Premium Job</td>\n",
       "      <td>ibex, Pakistan</td>\n",
       "      <td>Full Time Jobs</td>\n",
       "      <td>Job for Fresh Graduates</td>\n",
       "      <td>Customer Service Jobs</td>\n",
       "      <td>Responsible for acting as a liaison between ou...</td>\n",
       "      <td>Islamabad</td>\n",
       "      <td>9-Mar-21</td>\n",
       "    </tr>\n",
       "    <tr>\n",
       "      <th>4</th>\n",
       "      <td>Full Time English Speaker - International Busi...</td>\n",
       "      <td>Premium Job</td>\n",
       "      <td>ICM JAPAN, Pakistan</td>\n",
       "      <td>Full Time Job</td>\n",
       "      <td>&lt; 1 Year</td>\n",
       "      <td>Customer Service Job</td>\n",
       "      <td>International clients dealing exposure (B2B) a...</td>\n",
       "      <td>Karachi</td>\n",
       "      <td>5-Mar-21</td>\n",
       "    </tr>\n",
       "  </tbody>\n",
       "</table>\n",
       "</div>"
      ],
      "text/plain": [
       "                                            Job Name        label  \\\n",
       "0  Full Time New Job Positions .Net, .Netcore, Fl...  Premium Job   \n",
       "1    Full Time Senior Web Developer Jobs in Pakistan  Premium Job   \n",
       "2        Full Time Russian Speakers Jobs in Pakistan  Premium Job   \n",
       "3  Full Time Customer Support Specialist - Intern...  Premium Job   \n",
       "4  Full Time English Speaker - International Busi...  Premium Job   \n",
       "\n",
       "                              Company Name        Job Type  \\\n",
       "0                Nayel Solutions, Pakistan  Full Time Jobs   \n",
       "1  Eurosoft Tech Private Limited, Pakistan  Full Time Jobs   \n",
       "2                      ICM JAPAN, Pakistan  Full Time Jobs   \n",
       "3                           ibex, Pakistan  Full Time Jobs   \n",
       "4                      ICM JAPAN, Pakistan   Full Time Job   \n",
       "\n",
       "       Experience Required             Department  \\\n",
       "0         2 Years Job Exp.                IT Jobs   \n",
       "1         2 Years Job Exp.                IT Jobs   \n",
       "2                 < 1 Year  Customer Service Jobs   \n",
       "3  Job for Fresh Graduates  Customer Service Jobs   \n",
       "4                 < 1 Year   Customer Service Job   \n",
       "\n",
       "                                                  JD       City Date Posted  \n",
       "0  New Job Positions .net, .netcore, flutter, Tea...  Islamabad   12-Mar-21  \n",
       "1  We are looking for an experienced Web Develope...    Karachi   12-Mar-21  \n",
       "2  International clients dealing exposure (B2B).S...    Karachi   12-Mar-21  \n",
       "3  Responsible for acting as a liaison between ou...  Islamabad    9-Mar-21  \n",
       "4  International clients dealing exposure (B2B) a...    Karachi    5-Mar-21  "
      ]
     },
     "execution_count": 5,
     "metadata": {},
     "output_type": "execute_result"
    }
   ],
   "source": [
    "df.head()"
   ]
  },
  {
   "cell_type": "markdown",
   "id": "286b8980-b6b7-457a-bc5c-e3c33fb77a8f",
   "metadata": {},
   "source": [
    "### Summary Statistics"
   ]
  },
  {
   "cell_type": "code",
   "execution_count": 6,
   "id": "08d57419-8f0d-4ec7-8720-db128d9a7e28",
   "metadata": {},
   "outputs": [
    {
     "data": {
      "text/plain": [
       "(6680, 9)"
      ]
     },
     "execution_count": 6,
     "metadata": {},
     "output_type": "execute_result"
    }
   ],
   "source": [
    "df.shape"
   ]
  },
  {
   "cell_type": "code",
   "execution_count": 7,
   "id": "ad8b7e04-3d93-4f09-aa1c-0721d8cdda7a",
   "metadata": {},
   "outputs": [
    {
     "data": {
      "text/html": [
       "<div>\n",
       "<style scoped>\n",
       "    .dataframe tbody tr th:only-of-type {\n",
       "        vertical-align: middle;\n",
       "    }\n",
       "\n",
       "    .dataframe tbody tr th {\n",
       "        vertical-align: top;\n",
       "    }\n",
       "\n",
       "    .dataframe thead th {\n",
       "        text-align: right;\n",
       "    }\n",
       "</style>\n",
       "<table border=\"1\" class=\"dataframe\">\n",
       "  <thead>\n",
       "    <tr style=\"text-align: right;\">\n",
       "      <th></th>\n",
       "      <th>Job Name</th>\n",
       "      <th>label</th>\n",
       "      <th>Company Name</th>\n",
       "      <th>Job Type</th>\n",
       "      <th>Experience Required</th>\n",
       "      <th>Department</th>\n",
       "      <th>JD</th>\n",
       "      <th>City</th>\n",
       "      <th>Date Posted</th>\n",
       "    </tr>\n",
       "  </thead>\n",
       "  <tbody>\n",
       "    <tr>\n",
       "      <th>count</th>\n",
       "      <td>6680</td>\n",
       "      <td>1115</td>\n",
       "      <td>6017</td>\n",
       "      <td>6680</td>\n",
       "      <td>6680</td>\n",
       "      <td>6680</td>\n",
       "      <td>6680</td>\n",
       "      <td>6680</td>\n",
       "      <td>6680</td>\n",
       "    </tr>\n",
       "    <tr>\n",
       "      <th>unique</th>\n",
       "      <td>3838</td>\n",
       "      <td>3</td>\n",
       "      <td>2879</td>\n",
       "      <td>2</td>\n",
       "      <td>17</td>\n",
       "      <td>111</td>\n",
       "      <td>5043</td>\n",
       "      <td>86</td>\n",
       "      <td>443</td>\n",
       "    </tr>\n",
       "    <tr>\n",
       "      <th>top</th>\n",
       "      <td>Full Time Graphic Designer Job in Pakistan</td>\n",
       "      <td>Gallery Job</td>\n",
       "      <td>ibex, Pakistan</td>\n",
       "      <td>Full Time Job</td>\n",
       "      <td>2 Years Job Exp.</td>\n",
       "      <td>IT Job</td>\n",
       "      <td>To generate quality leads that result in sales...</td>\n",
       "      <td>Lahore</td>\n",
       "      <td>23-Feb-21</td>\n",
       "    </tr>\n",
       "    <tr>\n",
       "      <th>freq</th>\n",
       "      <td>60</td>\n",
       "      <td>775</td>\n",
       "      <td>93</td>\n",
       "      <td>3821</td>\n",
       "      <td>1635</td>\n",
       "      <td>820</td>\n",
       "      <td>37</td>\n",
       "      <td>2046</td>\n",
       "      <td>134</td>\n",
       "    </tr>\n",
       "  </tbody>\n",
       "</table>\n",
       "</div>"
      ],
      "text/plain": [
       "                                          Job Name        label  \\\n",
       "count                                         6680         1115   \n",
       "unique                                        3838            3   \n",
       "top     Full Time Graphic Designer Job in Pakistan  Gallery Job   \n",
       "freq                                            60          775   \n",
       "\n",
       "          Company Name       Job Type Experience Required Department  \\\n",
       "count             6017           6680                6680       6680   \n",
       "unique            2879              2                  17        111   \n",
       "top     ibex, Pakistan  Full Time Job    2 Years Job Exp.     IT Job   \n",
       "freq                93           3821                1635        820   \n",
       "\n",
       "                                                       JD    City Date Posted  \n",
       "count                                                6680    6680        6680  \n",
       "unique                                               5043      86         443  \n",
       "top     To generate quality leads that result in sales...  Lahore   23-Feb-21  \n",
       "freq                                                   37    2046         134  "
      ]
     },
     "execution_count": 7,
     "metadata": {},
     "output_type": "execute_result"
    }
   ],
   "source": [
    "df.describe()"
   ]
  },
  {
   "cell_type": "code",
   "execution_count": 8,
   "id": "fba3a09b-e25d-4d69-84df-37969f66c469",
   "metadata": {},
   "outputs": [
    {
     "data": {
      "text/plain": [
       "Index(['Job Name', 'label', 'Company Name', 'Job Type', 'Experience Required',\n",
       "       'Department', 'JD', 'City', 'Date Posted'],\n",
       "      dtype='object')"
      ]
     },
     "execution_count": 8,
     "metadata": {},
     "output_type": "execute_result"
    }
   ],
   "source": [
    "df.columns"
   ]
  },
  {
   "cell_type": "code",
   "execution_count": 9,
   "id": "5fe37d44-e128-4e9f-9558-14ef7e70a20b",
   "metadata": {},
   "outputs": [
    {
     "data": {
      "text/plain": [
       "pandas.core.frame.DataFrame"
      ]
     },
     "execution_count": 9,
     "metadata": {},
     "output_type": "execute_result"
    }
   ],
   "source": [
    "type(df)"
   ]
  },
  {
   "cell_type": "code",
   "execution_count": 10,
   "id": "4c5ac9e3-44ae-4999-9ed8-76eb4edf6c85",
   "metadata": {},
   "outputs": [
    {
     "data": {
      "text/plain": [
       "Job Name                  0\n",
       "label                  5565\n",
       "Company Name            663\n",
       "Job Type                  0\n",
       "Experience Required       0\n",
       "Department                0\n",
       "JD                        0\n",
       "City                      0\n",
       "Date Posted               0\n",
       "dtype: int64"
      ]
     },
     "execution_count": 10,
     "metadata": {},
     "output_type": "execute_result"
    }
   ],
   "source": [
    "df.isnull().sum()"
   ]
  },
  {
   "cell_type": "code",
   "execution_count": 16,
   "id": "3885bc3d",
   "metadata": {},
   "outputs": [
    {
     "data": {
      "text/plain": [
       "0       False\n",
       "1       False\n",
       "2       False\n",
       "3       False\n",
       "4       False\n",
       "        ...  \n",
       "1345     True\n",
       "1346     True\n",
       "1347     True\n",
       "1348     True\n",
       "1349     True\n",
       "Length: 1350, dtype: bool"
      ]
     },
     "execution_count": 16,
     "metadata": {},
     "output_type": "execute_result"
    }
   ],
   "source": []
  },
  {
   "cell_type": "code",
   "execution_count": null,
   "id": "53a198ac",
   "metadata": {},
   "outputs": [],
   "source": []
  }
 ],
 "metadata": {
  "kernelspec": {
   "display_name": "Python 3",
   "language": "python",
   "name": "python3"
  },
  "language_info": {
   "codemirror_mode": {
    "name": "ipython",
    "version": 3
   },
   "file_extension": ".py",
   "mimetype": "text/x-python",
   "name": "python",
   "nbconvert_exporter": "python",
   "pygments_lexer": "ipython3",
   "version": "3.12.1"
  }
 },
 "nbformat": 4,
 "nbformat_minor": 5
}
